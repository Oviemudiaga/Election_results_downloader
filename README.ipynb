{
 "cells": [
  {
   "attachments": {},
   "cell_type": "markdown",
   "metadata": {},
   "source": [
    "**Election Results Downloader**\n",
    "\n",
    "A tool for downloading images of election results from Nigeria. It uses Selenium, BeautifulSoup and Requests library to scrape the data from inecelectionresults.ng."
   ]
  },
  {
   "attachments": {},
   "cell_type": "markdown",
   "metadata": {},
   "source": [
    "**Requirements**\n",
    "\n",
    "\n",
    "The tool requires the following packages to be installed:\n",
    "\n",
    "selenium\n",
    "\n",
    "requests\n",
    "\n",
    "bs4\n",
    "\n",
    "pandas\n",
    "\n",
    "os\n",
    "\n",
    "re"
   ]
  },
  {
   "attachments": {},
   "cell_type": "markdown",
   "metadata": {},
   "source": [
    "**Usage**\n",
    "\n",
    "The tool consists of three main functions:\n",
    "\n",
    "1. text_fider: finds the link of the election results at the state, local government and ward levels\n",
    "2. result_clicker: clicks on the link to download the result images\n",
    "3. state_picker: picks the state and initiates the download process\n",
    "To download the election results of a state, call the state_picker function and pass the name of the state and other optional parameters such as the number of trials, minimum number of polling units, etc.\n",
    "\n",
    "For example, to download the election results of Lagos:\n",
    "\n",
    "for the local gov 1, ward: 01 and 1st polling unit. see inec website for details.\n",
    "\n",
    "Lagos = state_picker('LAGOS',loc_gov=1,ward=1,poll_unit=1)"
   ]
  },
  {
   "attachments": {},
   "cell_type": "markdown",
   "metadata": {},
   "source": [
    "**Output**\n",
    "\n",
    "The tool downloads the election results as image files and saves them in the local directory. The directory structure is as follows:\n",
    "\n",
    "C:/your location/{root_folder}/{i}.{file_type}\n",
    "\n",
    "where root_folder is the name of the ward, i is the polling unit number, and file_type is the file extension of the image file.\n",
    "\n",
    "You will need to specify this location from result_clicker function."
   ]
  },
  {
   "attachments": {},
   "cell_type": "markdown",
   "metadata": {},
   "source": [
    "**Limitations**\n",
    "\n",
    "- The tool is limited to downloading the election results from the inecelectionresults.ng website and is not capable of downloading results from other websites.\n",
    "\n",
    "- The tool requires a stable internet connection and may not work as expected if the connection is slow or unstable.\n",
    "\n",
    "- The tool is limited to downloading only image files and may not work with other types of files."
   ]
  },
  {
   "cell_type": "markdown",
   "metadata": {},
   "source": []
  }
 ],
 "metadata": {
  "language_info": {
   "name": "python"
  },
  "orig_nbformat": 4
 },
 "nbformat": 4,
 "nbformat_minor": 2
}
