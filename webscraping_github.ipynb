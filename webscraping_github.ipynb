{
 "cells": [
  {
   "cell_type": "code",
   "execution_count": 1,
   "metadata": {},
   "outputs": [],
   "source": [
    "import requests\n",
    "from bs4 import BeautifulSoup\n",
    "from selenium import webdriver\n",
    "from selenium.webdriver.common.by import By\n",
    "from selenium.webdriver.chrome.options import Options\n",
    "from selenium.webdriver.common.action_chains import ActionChains\n",
    "from selenium.webdriver.support.ui import WebDriverWait\n",
    "from selenium.webdriver.support import expected_conditions as EC\n",
    "import time as time \n",
    "import pandas as pd \n",
    "import os \n",
    "import re "
   ]
  },
  {
   "cell_type": "code",
   "execution_count": 3,
   "metadata": {},
   "outputs": [],
   "source": [
    "\n",
    "# List of states & fct \n",
    "nigeria_states = ['ABIA','ADAMAWA','AKWA IBOM','ANAMBRA','BAUCHI','BAYELSA',\n",
    "'BENUE','BORNO','CROSS RIVER','DELTA','EBONYI','EDO','EKITI','ENUGU','FCT',\n",
    "'GOMBE','IMO','JIGAWA','KADUNA','KANO','KATSINA','KEBBI','KOGI','KWARA',\n",
    "'LAGOS','NASARAWA','NIGER','OGUN','ONDO','OSUN','OYO','PLATEAU','RIVERS',\n",
    "'SOKOTO','TARABA','YOBE','ZAMFARA']"
   ]
  },
  {
   "cell_type": "code",
   "execution_count": 2,
   "metadata": {},
   "outputs": [],
   "source": [
    "def text_fider(website,text, exact=True):\n",
    "    driver = webdriver.Chrome()\n",
    "\n",
    "    # Navigate to the website\n",
    "    driver.get(website)\n",
    "    # Wait for the page to load\n",
    "    time.sleep(3)\n",
    "\n",
    "    # perform partial match\n",
    "    if exact!=True:\n",
    "        try:\n",
    "            result = driver.find_element(By.PARTIAL_LINK_TEXT, text)\n",
    "            # Extracting the link\n",
    "            link = (result.get_attribute('href'))\n",
    "        except:\n",
    "            print('Unable to find :',text)\n",
    "    # perform exact match\n",
    "    else:\n",
    "        try:\n",
    "            result = driver.find_element(By.LINK_TEXT, text)\n",
    "            # Extracting the link\n",
    "            link = (result.get_attribute('href'))\n",
    "        except:\n",
    "            print('Unable to find :',text)\n",
    "    return result.text,link"
   ]
  },
  {
   "cell_type": "code",
   "execution_count": 8,
   "metadata": {},
   "outputs": [],
   "source": [
    "\n",
    "def result_clicker(website,polls,root_folder):\n",
    "    for i in range(1,polls+1):\n",
    "        driver = webdriver.Chrome()\n",
    "\n",
    "        # Navigate to the website\n",
    "        driver.get(website)\n",
    "        # Wait for the page to load\n",
    "        time.sleep(3)\n",
    "        try:\n",
    "            result = driver.find_element(By.XPATH, f'/html/body/app-root/div/app-activated/div/div/div/div/app-election-lga/div/div/div/div[2]/div[2]/div/div[2]/div[3]/div/div[{i}]/div/div[2]/button')\n",
    "            # Extracting the link\n",
    "             # Scroll down to bring the element into view\n",
    "            driver.execute_script(\"arguments[0].scrollIntoView();\", result)\n",
    "            print(i,result)\n",
    "            time.sleep(8)\n",
    "            \n",
    "            action = result.click()\n",
    "\n",
    "            url = driver.current_url\n",
    "\n",
    "            driver.get(url)\n",
    "            time.sleep(3)\n",
    "            iframe = driver.find_element(By.XPATH, '//iframe[contains(@src, \"https://\")]')\n",
    "            driver.execute_script(\"arguments[0].scrollIntoView();\", iframe)\n",
    "\n",
    "            time.sleep(3)\n",
    "\n",
    "            # Get the source URL of the embedded content\n",
    "            src = iframe.get_attribute('src')\n",
    "            #print(i,src)\n",
    "\n",
    "            # Get the file type from the source URL\n",
    "            file_type = src.split('.')[-1]\n",
    "\n",
    "            # Download the content\n",
    "            #location = f'D:/OneDrive/2023 Election Results/{root_folder}'\n",
    "            # Create the root folder if it doesn't exist\n",
    "            root_folder = re.sub(r'[^\\w\\s]', '', root_folder)\n",
    "            root_folder = root_folder.replace(\" \", \"_\")\n",
    "            root_folder = root_folder.replace(\"/\", \"_\")\n",
    "            root_folder = root_folder.replace(\":\", \"_\")\n",
    "            \n",
    "            if not os.path.exists(root_folder):\n",
    "                os.makedirs(root_folder)\n",
    "            else:\n",
    "                pass\n",
    "\n",
    "            with open(f'D:/OneDrive/2023 Election Results/{root_folder}/{i}.{file_type}', \"wb\") as f:\n",
    "                f.write(requests.get(src).content)\n",
    "\n",
    "        except:\n",
    "            print('No download at ',src)\n",
    "            pass"
   ]
  },
  {
   "cell_type": "code",
   "execution_count": 9,
   "metadata": {},
   "outputs": [],
   "source": [
    "def state_picker(state,loc_gov,ward,poll_unit = 60):\n",
    "    driver = webdriver.Chrome()\n",
    "    # Navigate to the website\n",
    "    driver.get(\"https://www.inecelectionresults.ng/pres/elections/63f8f25b594e164f8146a213?type=pres\")\n",
    "    # Wait for the page to load\n",
    "    time.sleep(3)\n",
    "    result = driver.find_element(By.LINK_TEXT, state)\n",
    "    link = (result.get_attribute('href'))\n",
    "\n",
    "    local_governments = {}\n",
    "    wards = {}\n",
    "    polling = {}\n",
    "    #create a dictionary of tuples (local govt, website)\n",
    "    for i in range(1,loc_gov+1):\n",
    "        try:\n",
    "            #local government level\n",
    "            output = text_fider(website=link,text=f'{i})', exact=False)\n",
    "            local_governments[output] = None\n",
    "\n",
    "            #ward level. search the local govt link for a ward\n",
    "            for i in range(1,ward+1):\n",
    "                try:\n",
    "                    output_2 = text_fider(website=output[1],text=f'{i})', exact=False)\n",
    "                    wards[output_2] = None\n",
    "                    local_governments[output].append(output_2)\n",
    "                except:\n",
    "                    pass \n",
    "                \n",
    "                #polling unit level. search the ward link for a polling unit\n",
    "                try:\n",
    "                    print(output_2[0])\n",
    "                    result_clicker(website=output_2[1],polls=poll_unit, root_folder=output_2[0])\n",
    "                except: pass \n",
    "        except:\n",
    "            pass \n",
    "    return local_governments,wards, polling"
   ]
  },
  {
   "cell_type": "code",
   "execution_count": 11,
   "metadata": {},
   "outputs": [
    {
     "name": "stdout",
     "output_type": "stream",
     "text": [
      "ISALE/IDIMANGORO (Ward: 01) - LAGOS\n",
      "1 <selenium.webdriver.remote.webelement.WebElement (session=\"a35f3027a83a0b1a813991fb04416b27\", element=\"86ef15cc-7ada-4830-ae36-4cfd260425cf\")>\n"
     ]
    }
   ],
   "source": [
    "Lagos = state_picker('LAGOS',loc_gov=1,ward=1,poll_unit=1)"
   ]
  },
  {
   "cell_type": "code",
   "execution_count": 40,
   "metadata": {},
   "outputs": [
    {
     "data": {
      "text/plain": [
       "{}"
      ]
     },
     "execution_count": 40,
     "metadata": {},
     "output_type": "execute_result"
    }
   ],
   "source": [
    "Lagos[2]"
   ]
  }
 ],
 "metadata": {
  "kernelspec": {
   "display_name": "DS",
   "language": "python",
   "name": "python3"
  },
  "language_info": {
   "codemirror_mode": {
    "name": "ipython",
    "version": 3
   },
   "file_extension": ".py",
   "mimetype": "text/x-python",
   "name": "python",
   "nbconvert_exporter": "python",
   "pygments_lexer": "ipython3",
   "version": "3.10.9"
  },
  "orig_nbformat": 4
 },
 "nbformat": 4,
 "nbformat_minor": 2
}
